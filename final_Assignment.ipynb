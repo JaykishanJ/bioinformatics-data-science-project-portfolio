{
 "cells": [
  {
   "cell_type": "markdown",
   "id": "78eb3c6c",
   "metadata": {},
   "source": [
    "<a id=\"section-contect\"></a>\n",
    "[Jump to contect](#section-contect)\n"
   ]
  },
  {
   "cell_type": "markdown",
   "id": "625ed693",
   "metadata": {},
   "source": [
    "<H1>Q. 1 A car with a full tank of gas drives 80 miles per hour for 3 hours before running out of gas. How many miles can the car go per tank?<h1>"
   ]
  },
  {
   "cell_type": "code",
   "execution_count": 19,
   "id": "a87cbbd4",
   "metadata": {},
   "outputs": [
    {
     "name": "stdout",
     "output_type": "stream",
     "text": [
      "Before running out of gas car can travel 240 miles\n"
     ]
    }
   ],
   "source": [
    "#80 miles is for one hours \n",
    "total_miles=80*3\n",
    "print(\"Before running out of gas car can travel \" + str(total_miles) + \" miles\")"
   ]
  },
  {
   "cell_type": "markdown",
   "id": "43b46b6c",
   "metadata": {},
   "source": [
    "><h2> Q 2. A runner travels a half marathon (13.1 miles) in 3 hours. How fast was this runner going in miles per hour?<h2>"
   ]
  },
  {
   "cell_type": "code",
   "execution_count": 20,
   "id": "d55acb2b",
   "metadata": {},
   "outputs": [
    {
     "name": "stdout",
     "output_type": "stream",
     "text": [
      "Per hours Speed of runner is:4.366666666666666\n"
     ]
    }
   ],
   "source": [
    "#13.1 miles in 3 hours \n",
    "miles_par_hours=13.1/3\n",
    "print(\"Per hours Speed of runner is:\" + str(miles_par_hours))"
   ]
  },
  {
   "cell_type": "markdown",
   "id": "3ef0b2f3",
   "metadata": {},
   "source": [
    "*<h3>Q 3. The spread of a virus is exponential. If 5 people are infected and each person infects 2 other people, how many people have been infected after 5 rounds of infection?<h3>*"
   ]
  },
  {
   "cell_type": "code",
   "execution_count": 23,
   "id": "9e4955ce",
   "metadata": {},
   "outputs": [
    {
     "name": "stdout",
     "output_type": "stream",
     "text": [
      "total infected persons are:160\n"
     ]
    }
   ],
   "source": [
    "infected_people = 5 * (2 ** 5)\n",
    "print(\"total infected persons are:\" + str(infected_person))"
   ]
  },
  {
   "cell_type": "markdown",
   "id": "ecef49eb",
   "metadata": {},
   "source": [
    "here are the answares of the questions that we have to solve in this notebook \n",
    "- Before running out of gas car can travel 240 miles\n",
    "- Per hours Speed of runner is:4.366666666666666\n",
    "- total infected persons are:160\n"
   ]
  },
  {
   "cell_type": "markdown",
   "id": "85ad354d",
   "metadata": {},
   "source": [
    "\n",
    "# Contect \n",
    "\n",
    "This is the contect detailes about me .\n",
    "\n"
   ]
  },
  {
   "cell_type": "markdown",
   "id": "7132ecb8",
   "metadata": {},
   "source": [
    "<h3> here is my github page have a look <h3>"
   ]
  },
  {
   "cell_type": "markdown",
   "id": "9579716f",
   "metadata": {},
   "source": [
    "[![here is my github page have look](https://logosmarcas.net/wp-content/uploads/2020/12/GitHub-Simbolo.png)](https://github.com/JaykishanJ)"
   ]
  },
  {
   "cell_type": "markdown",
   "id": "b79b0cbe",
   "metadata": {},
   "source": [
    "<h3> here is my linkdin page have a look <h3>"
   ]
  },
  {
   "cell_type": "markdown",
   "id": "94ef4d05",
   "metadata": {},
   "source": [
    "[![here is my github page have look](https://www.onrec.com/sites/onrec/directory/files/Linkedin-Logo.png)](https://www.linkedin.com/in/jaykishan-solanki-7615b2146/)"
   ]
  },
  {
   "cell_type": "code",
   "execution_count": null,
   "id": "d67ca371",
   "metadata": {},
   "outputs": [],
   "source": []
  }
 ],
 "metadata": {
  "kernelspec": {
   "display_name": "Python 3 (ipykernel)",
   "language": "python",
   "name": "python3"
  },
  "language_info": {
   "codemirror_mode": {
    "name": "ipython",
    "version": 3
   },
   "file_extension": ".py",
   "mimetype": "text/x-python",
   "name": "python",
   "nbconvert_exporter": "python",
   "pygments_lexer": "ipython3",
   "version": "3.10.9"
  }
 },
 "nbformat": 4,
 "nbformat_minor": 5
}
